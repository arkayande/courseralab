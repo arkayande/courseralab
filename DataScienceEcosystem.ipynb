{
 "cells": [
  {
   "cell_type": "markdown",
   "id": "5371e02a-517e-49cd-b187-42e1f0316258",
   "metadata": {},
   "source": [
    "# Data Science Tools and Ecosystem"
   ]
  },
  {
   "cell_type": "markdown",
   "id": "398ffe9d-dfbc-4db4-9906-d1b8896b3bd8",
   "metadata": {},
   "source": [
    "In this notebook, Data Science Tools and Ecosystem are summarized."
   ]
  },
  {
   "cell_type": "markdown",
   "id": "b182c2b6-c942-4f43-a162-be4f6b0a9f6f",
   "metadata": {},
   "source": [
    "**Objectives:**\n",
    "This course help to learn the following things:\n",
    "- List the Popular Languages that Data Scientists Use\n",
    "- List the Libraries that can be used by the Data Scientists\n",
    "- Know the different open source tools for the Data Science\n",
    "- Understand the working of Jupyter Notebook\n",
    "- Understand the use of git for version control\n",
    "- Know the different commercial tools for data science"
   ]
  },
  {
   "cell_type": "markdown",
   "id": "34709026-dba0-4823-a218-375303fb5655",
   "metadata": {},
   "source": [
    "Some of the popular languages that Data Scientists use are:\n",
    "1. Python\n",
    "2. Scala\n",
    "3. R\n",
    "4. Julia"
   ]
  },
  {
   "cell_type": "markdown",
   "id": "a03b2702-cb91-4f1d-a28d-f570563d4a64",
   "metadata": {},
   "source": [
    "Some of the commonly used libraries used by Data Scientists include:\n",
    "1. Tensorflow\n",
    "2. Scikit-Learn\n",
    "3. Pytorch\n",
    "4. TensorflowLite"
   ]
  },
  {
   "cell_type": "markdown",
   "id": "6cdbf424-0df8-4738-94a2-2532dcf0b68e",
   "metadata": {},
   "source": [
    "|Data Science Tools|\n",
    "|------------------|\n",
    "|Jupyter|\n",
    "|Spyder|\n",
    "|RStudio|\n",
    "|VSCode|\n",
    "|Anaconda|"
   ]
  },
  {
   "cell_type": "markdown",
   "id": "ef6171be-fc4d-4ded-a863-2bdd054f3790",
   "metadata": {},
   "source": [
    "Below are a few examples of evaluating arithmetic expressions in Python"
   ]
  },
  {
   "cell_type": "code",
   "execution_count": 1,
   "id": "0bd377ac-2756-4afb-a364-90c421d4cdde",
   "metadata": {},
   "outputs": [
    {
     "data": {
      "text/plain": [
       "17"
      ]
     },
     "execution_count": 1,
     "metadata": {},
     "output_type": "execute_result"
    }
   ],
   "source": [
    "# This a simple arithmetic expression to mutiply then add integers\n",
    "(3*4)+5"
   ]
  },
  {
   "cell_type": "code",
   "execution_count": 2,
   "id": "5b43f553-cd72-48e4-90ed-2dfa274e8a39",
   "metadata": {},
   "outputs": [
    {
     "data": {
      "text/plain": [
       "3.3333333333333335"
      ]
     },
     "execution_count": 2,
     "metadata": {},
     "output_type": "execute_result"
    }
   ],
   "source": [
    "# This will convert 200 minutes to hours by diving by 60\n",
    "200/60"
   ]
  },
  {
   "cell_type": "markdown",
   "id": "4625a228-726e-4bf1-8ba3-bb9be806038f",
   "metadata": {},
   "source": [
    "## Author\n",
    "Anu"
   ]
  },
  {
   "cell_type": "code",
   "execution_count": null,
   "id": "0bece671-d8a8-41ed-8f70-9aaf794e2c5e",
   "metadata": {},
   "outputs": [],
   "source": []
  }
 ],
 "metadata": {
  "kernelspec": {
   "display_name": "Python 3 (ipykernel)",
   "language": "python",
   "name": "python3"
  },
  "language_info": {
   "codemirror_mode": {
    "name": "ipython",
    "version": 3
   },
   "file_extension": ".py",
   "mimetype": "text/x-python",
   "name": "python",
   "nbconvert_exporter": "python",
   "pygments_lexer": "ipython3",
   "version": "3.12.8"
  }
 },
 "nbformat": 4,
 "nbformat_minor": 5
}
